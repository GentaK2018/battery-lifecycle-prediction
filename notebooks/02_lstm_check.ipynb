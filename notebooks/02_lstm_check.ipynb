{
 "cells": [
  {
   "cell_type": "code",
   "execution_count": 1,
   "id": "44808d72-8307-4258-b741-a8d891b2aa66",
   "metadata": {},
   "outputs": [],
   "source": [
    "import joblib"
   ]
  },
  {
   "cell_type": "code",
   "execution_count": 6,
   "id": "5d68b3bc-f936-4b0a-bb06-887e76278329",
   "metadata": {},
   "outputs": [
    {
     "data": {
      "text/plain": [
       "{'train_losses': [-0.36672778106573145,\n",
       "  -0.9996186680795602,\n",
       "  -1.0279913277664685,\n",
       "  -1.055264152370793,\n",
       "  -1.1435014810860271,\n",
       "  -1.914327575966273,\n",
       "  -2.8579701366593873,\n",
       "  -3.1195551399281016,\n",
       "  -3.3076896487861376,\n",
       "  -3.4535070197732236,\n",
       "  -3.5089926787022687,\n",
       "  -3.5953783501257357,\n",
       "  -3.624351463185365,\n",
       "  -3.6619585626882643,\n",
       "  -3.7081600623533837,\n",
       "  -3.754469489535969,\n",
       "  -3.783818147247797,\n",
       "  -3.7717696236625504],\n",
       " 'val_losses': [-0.9168537401948285,\n",
       "  -0.9402055018214301,\n",
       "  -0.9540416612640839,\n",
       "  -0.990723224864559,\n",
       "  -1.1441156940061497,\n",
       "  -2.9293352269849233,\n",
       "  -3.2172308802780454,\n",
       "  -3.5450805855475664,\n",
       "  -3.662562835804865,\n",
       "  -3.25513953550059,\n",
       "  -3.80568090166778,\n",
       "  -3.885902168238108,\n",
       "  -3.5773991548763786,\n",
       "  -3.6750658124450055,\n",
       "  -3.799826921340505,\n",
       "  -3.694152249685237,\n",
       "  -3.318376084814999,\n",
       "  -3.725430314730498],\n",
       " 'rmse_state_train': 131.21084449955237,\n",
       " 'rmse_state_val': 122.30446006741109,\n",
       " 'rmse_state_test': 213.73102811934532,\n",
       " 'file_name': 'model4',\n",
       " 'best_val_loss': -3.885902168238108}"
      ]
     },
     "execution_count": 6,
     "metadata": {},
     "output_type": "execute_result"
    }
   ],
   "source": [
    "joblib.load(\"../model_severson/model4.pkl\")"
   ]
  },
  {
   "cell_type": "code",
   "execution_count": null,
   "id": "0b36f2d0-29aa-4455-8928-1ec79d473eb7",
   "metadata": {},
   "outputs": [],
   "source": []
  }
 ],
 "metadata": {
  "kernelspec": {
   "display_name": "Python 3 (ipykernel)",
   "language": "python",
   "name": "python3"
  },
  "language_info": {
   "codemirror_mode": {
    "name": "ipython",
    "version": 3
   },
   "file_extension": ".py",
   "mimetype": "text/x-python",
   "name": "python",
   "nbconvert_exporter": "python",
   "pygments_lexer": "ipython3",
   "version": "3.9.13"
  }
 },
 "nbformat": 4,
 "nbformat_minor": 5
}
